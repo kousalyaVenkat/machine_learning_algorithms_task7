{
  "nbformat": 4,
  "nbformat_minor": 0,
  "metadata": {
    "colab": {
      "provenance": []
    },
    "kernelspec": {
      "name": "python3",
      "display_name": "Python 3"
    },
    "language_info": {
      "name": "python"
    }
  },
  "cells": [
    {
      "cell_type": "code",
      "metadata": {
        "id": "xugUQsM_jkbL"
      },
      "source": [
        "# Social_Network_Ads.csv"
      ],
      "execution_count": null,
      "outputs": []
    },
    {
      "cell_type": "markdown",
      "metadata": {
        "id": "t_YJ-uqLmRuD"
      },
      "source": [
        "This dataset contains information of users in a social network. Those informations are the user id the gender the age and the estimated salary. A car company has just launched their brand new luxury SUV. And we're trying to see which of these users of the social network are going to buy this brand new SUV And the last column here tells If yes or no the user bought this SUV we are going to build a model that is going to predict if a user is going to buy or not the SUV based on two variables which are going to be the age and the estimated salary. So our matrix of feature is only going to be these two columns. We want to find some correlations between the age and the estimated salary of a user and his decision to purchase yes or no the SUV.\n"
      ]
    },
    {
      "cell_type": "markdown",
      "metadata": {
        "id": "sgTgwccsk5Yu"
      },
      "source": [
        "**Step 1 | Data Pre-Processing**"
      ]
    },
    {
      "cell_type": "markdown",
      "metadata": {
        "id": "bKWN0MOblEKa"
      },
      "source": [
        "**Importing the Libraries**"
      ]
    },
    {
      "cell_type": "code",
      "metadata": {
        "id": "8cIjONoJj8u0"
      },
      "source": [
        "import pandas as pd\n",
        "import numpy as np\n",
        "import matplotlib.pyplot as plt"
      ],
      "execution_count": 1,
      "outputs": []
    },
    {
      "cell_type": "code",
      "metadata": {
        "id": "2QZwg6ypj8xs"
      },
      "source": [
        "import seaborn as sns"
      ],
      "execution_count": 2,
      "outputs": []
    },
    {
      "cell_type": "markdown",
      "metadata": {
        "id": "bM9O8a0YlNWk"
      },
      "source": [
        "**Importing the dataset**"
      ]
    },
    {
      "cell_type": "code",
      "metadata": {
        "id": "vfPLWJHRlM-4"
      },
      "source": [
        "data=pd.read_csv(\"Social_Network_Ads.csv\")"
      ],
      "execution_count": 3,
      "outputs": []
    },
    {
      "cell_type": "code",
      "metadata": {
        "id": "8LWipIjDj7yn",
        "colab": {
          "base_uri": "https://localhost:8080/",
          "height": 206
        },
        "outputId": "aa0fd4d5-109d-4395-b2c5-18e756afb743"
      },
      "source": [
        "data.head()"
      ],
      "execution_count": 4,
      "outputs": [
        {
          "output_type": "execute_result",
          "data": {
            "text/plain": [
              "    User ID  Gender  Age  EstimatedSalary  Purchased\n",
              "0  15624510    Male   19            19000          0\n",
              "1  15810944    Male   35            20000          0\n",
              "2  15668575  Female   26            43000          0\n",
              "3  15603246  Female   27            57000          0\n",
              "4  15804002    Male   19            76000          0"
            ],
            "text/html": [
              "\n",
              "  <div id=\"df-14272197-a96d-4ebd-bc4d-b4baa54792fc\">\n",
              "    <div class=\"colab-df-container\">\n",
              "      <div>\n",
              "<style scoped>\n",
              "    .dataframe tbody tr th:only-of-type {\n",
              "        vertical-align: middle;\n",
              "    }\n",
              "\n",
              "    .dataframe tbody tr th {\n",
              "        vertical-align: top;\n",
              "    }\n",
              "\n",
              "    .dataframe thead th {\n",
              "        text-align: right;\n",
              "    }\n",
              "</style>\n",
              "<table border=\"1\" class=\"dataframe\">\n",
              "  <thead>\n",
              "    <tr style=\"text-align: right;\">\n",
              "      <th></th>\n",
              "      <th>User ID</th>\n",
              "      <th>Gender</th>\n",
              "      <th>Age</th>\n",
              "      <th>EstimatedSalary</th>\n",
              "      <th>Purchased</th>\n",
              "    </tr>\n",
              "  </thead>\n",
              "  <tbody>\n",
              "    <tr>\n",
              "      <th>0</th>\n",
              "      <td>15624510</td>\n",
              "      <td>Male</td>\n",
              "      <td>19</td>\n",
              "      <td>19000</td>\n",
              "      <td>0</td>\n",
              "    </tr>\n",
              "    <tr>\n",
              "      <th>1</th>\n",
              "      <td>15810944</td>\n",
              "      <td>Male</td>\n",
              "      <td>35</td>\n",
              "      <td>20000</td>\n",
              "      <td>0</td>\n",
              "    </tr>\n",
              "    <tr>\n",
              "      <th>2</th>\n",
              "      <td>15668575</td>\n",
              "      <td>Female</td>\n",
              "      <td>26</td>\n",
              "      <td>43000</td>\n",
              "      <td>0</td>\n",
              "    </tr>\n",
              "    <tr>\n",
              "      <th>3</th>\n",
              "      <td>15603246</td>\n",
              "      <td>Female</td>\n",
              "      <td>27</td>\n",
              "      <td>57000</td>\n",
              "      <td>0</td>\n",
              "    </tr>\n",
              "    <tr>\n",
              "      <th>4</th>\n",
              "      <td>15804002</td>\n",
              "      <td>Male</td>\n",
              "      <td>19</td>\n",
              "      <td>76000</td>\n",
              "      <td>0</td>\n",
              "    </tr>\n",
              "  </tbody>\n",
              "</table>\n",
              "</div>\n",
              "      <button class=\"colab-df-convert\" onclick=\"convertToInteractive('df-14272197-a96d-4ebd-bc4d-b4baa54792fc')\"\n",
              "              title=\"Convert this dataframe to an interactive table.\"\n",
              "              style=\"display:none;\">\n",
              "        \n",
              "  <svg xmlns=\"http://www.w3.org/2000/svg\" height=\"24px\"viewBox=\"0 0 24 24\"\n",
              "       width=\"24px\">\n",
              "    <path d=\"M0 0h24v24H0V0z\" fill=\"none\"/>\n",
              "    <path d=\"M18.56 5.44l.94 2.06.94-2.06 2.06-.94-2.06-.94-.94-2.06-.94 2.06-2.06.94zm-11 1L8.5 8.5l.94-2.06 2.06-.94-2.06-.94L8.5 2.5l-.94 2.06-2.06.94zm10 10l.94 2.06.94-2.06 2.06-.94-2.06-.94-.94-2.06-.94 2.06-2.06.94z\"/><path d=\"M17.41 7.96l-1.37-1.37c-.4-.4-.92-.59-1.43-.59-.52 0-1.04.2-1.43.59L10.3 9.45l-7.72 7.72c-.78.78-.78 2.05 0 2.83L4 21.41c.39.39.9.59 1.41.59.51 0 1.02-.2 1.41-.59l7.78-7.78 2.81-2.81c.8-.78.8-2.07 0-2.86zM5.41 20L4 18.59l7.72-7.72 1.47 1.35L5.41 20z\"/>\n",
              "  </svg>\n",
              "      </button>\n",
              "      \n",
              "  <style>\n",
              "    .colab-df-container {\n",
              "      display:flex;\n",
              "      flex-wrap:wrap;\n",
              "      gap: 12px;\n",
              "    }\n",
              "\n",
              "    .colab-df-convert {\n",
              "      background-color: #E8F0FE;\n",
              "      border: none;\n",
              "      border-radius: 50%;\n",
              "      cursor: pointer;\n",
              "      display: none;\n",
              "      fill: #1967D2;\n",
              "      height: 32px;\n",
              "      padding: 0 0 0 0;\n",
              "      width: 32px;\n",
              "    }\n",
              "\n",
              "    .colab-df-convert:hover {\n",
              "      background-color: #E2EBFA;\n",
              "      box-shadow: 0px 1px 2px rgba(60, 64, 67, 0.3), 0px 1px 3px 1px rgba(60, 64, 67, 0.15);\n",
              "      fill: #174EA6;\n",
              "    }\n",
              "\n",
              "    [theme=dark] .colab-df-convert {\n",
              "      background-color: #3B4455;\n",
              "      fill: #D2E3FC;\n",
              "    }\n",
              "\n",
              "    [theme=dark] .colab-df-convert:hover {\n",
              "      background-color: #434B5C;\n",
              "      box-shadow: 0px 1px 3px 1px rgba(0, 0, 0, 0.15);\n",
              "      filter: drop-shadow(0px 1px 2px rgba(0, 0, 0, 0.3));\n",
              "      fill: #FFFFFF;\n",
              "    }\n",
              "  </style>\n",
              "\n",
              "      <script>\n",
              "        const buttonEl =\n",
              "          document.querySelector('#df-14272197-a96d-4ebd-bc4d-b4baa54792fc button.colab-df-convert');\n",
              "        buttonEl.style.display =\n",
              "          google.colab.kernel.accessAllowed ? 'block' : 'none';\n",
              "\n",
              "        async function convertToInteractive(key) {\n",
              "          const element = document.querySelector('#df-14272197-a96d-4ebd-bc4d-b4baa54792fc');\n",
              "          const dataTable =\n",
              "            await google.colab.kernel.invokeFunction('convertToInteractive',\n",
              "                                                     [key], {});\n",
              "          if (!dataTable) return;\n",
              "\n",
              "          const docLinkHtml = 'Like what you see? Visit the ' +\n",
              "            '<a target=\"_blank\" href=https://colab.research.google.com/notebooks/data_table.ipynb>data table notebook</a>'\n",
              "            + ' to learn more about interactive tables.';\n",
              "          element.innerHTML = '';\n",
              "          dataTable['output_type'] = 'display_data';\n",
              "          await google.colab.output.renderOutput(dataTable, element);\n",
              "          const docLink = document.createElement('div');\n",
              "          docLink.innerHTML = docLinkHtml;\n",
              "          element.appendChild(docLink);\n",
              "        }\n",
              "      </script>\n",
              "    </div>\n",
              "  </div>\n",
              "  "
            ]
          },
          "metadata": {},
          "execution_count": 4
        }
      ]
    },
    {
      "cell_type": "code",
      "source": [
        "data['Purchased'].value_counts()\n"
      ],
      "metadata": {
        "colab": {
          "base_uri": "https://localhost:8080/"
        },
        "id": "obaG1Drum0NF",
        "outputId": "4f2e3771-41cb-4eb3-961a-3003ac2a37b2"
      },
      "execution_count": 48,
      "outputs": [
        {
          "output_type": "execute_result",
          "data": {
            "text/plain": [
              "0    257\n",
              "1    143\n",
              "Name: Purchased, dtype: int64"
            ]
          },
          "metadata": {},
          "execution_count": 48
        }
      ]
    },
    {
      "cell_type": "code",
      "source": [
        "data.shape"
      ],
      "metadata": {
        "colab": {
          "base_uri": "https://localhost:8080/"
        },
        "id": "s7rG5TAqLivt",
        "outputId": "9f2a157c-dc6f-41dd-9d06-1c3ef3496dd3"
      },
      "execution_count": 5,
      "outputs": [
        {
          "output_type": "execute_result",
          "data": {
            "text/plain": [
              "(400, 5)"
            ]
          },
          "metadata": {},
          "execution_count": 5
        }
      ]
    },
    {
      "cell_type": "code",
      "source": [
        "data.tail()"
      ],
      "metadata": {
        "colab": {
          "base_uri": "https://localhost:8080/",
          "height": 206
        },
        "id": "IYU6bKHFO9sw",
        "outputId": "a0ce6fc2-6e3c-4f2b-e17a-13c05e5a4bca"
      },
      "execution_count": 7,
      "outputs": [
        {
          "output_type": "execute_result",
          "data": {
            "text/plain": [
              "      User ID  Gender  Age  EstimatedSalary  Purchased\n",
              "395  15691863  Female   46            41000          1\n",
              "396  15706071    Male   51            23000          1\n",
              "397  15654296  Female   50            20000          1\n",
              "398  15755018    Male   36            33000          0\n",
              "399  15594041  Female   49            36000          1"
            ],
            "text/html": [
              "\n",
              "  <div id=\"df-e18c17fc-5d11-4417-ab56-b0f77f819ffe\">\n",
              "    <div class=\"colab-df-container\">\n",
              "      <div>\n",
              "<style scoped>\n",
              "    .dataframe tbody tr th:only-of-type {\n",
              "        vertical-align: middle;\n",
              "    }\n",
              "\n",
              "    .dataframe tbody tr th {\n",
              "        vertical-align: top;\n",
              "    }\n",
              "\n",
              "    .dataframe thead th {\n",
              "        text-align: right;\n",
              "    }\n",
              "</style>\n",
              "<table border=\"1\" class=\"dataframe\">\n",
              "  <thead>\n",
              "    <tr style=\"text-align: right;\">\n",
              "      <th></th>\n",
              "      <th>User ID</th>\n",
              "      <th>Gender</th>\n",
              "      <th>Age</th>\n",
              "      <th>EstimatedSalary</th>\n",
              "      <th>Purchased</th>\n",
              "    </tr>\n",
              "  </thead>\n",
              "  <tbody>\n",
              "    <tr>\n",
              "      <th>395</th>\n",
              "      <td>15691863</td>\n",
              "      <td>Female</td>\n",
              "      <td>46</td>\n",
              "      <td>41000</td>\n",
              "      <td>1</td>\n",
              "    </tr>\n",
              "    <tr>\n",
              "      <th>396</th>\n",
              "      <td>15706071</td>\n",
              "      <td>Male</td>\n",
              "      <td>51</td>\n",
              "      <td>23000</td>\n",
              "      <td>1</td>\n",
              "    </tr>\n",
              "    <tr>\n",
              "      <th>397</th>\n",
              "      <td>15654296</td>\n",
              "      <td>Female</td>\n",
              "      <td>50</td>\n",
              "      <td>20000</td>\n",
              "      <td>1</td>\n",
              "    </tr>\n",
              "    <tr>\n",
              "      <th>398</th>\n",
              "      <td>15755018</td>\n",
              "      <td>Male</td>\n",
              "      <td>36</td>\n",
              "      <td>33000</td>\n",
              "      <td>0</td>\n",
              "    </tr>\n",
              "    <tr>\n",
              "      <th>399</th>\n",
              "      <td>15594041</td>\n",
              "      <td>Female</td>\n",
              "      <td>49</td>\n",
              "      <td>36000</td>\n",
              "      <td>1</td>\n",
              "    </tr>\n",
              "  </tbody>\n",
              "</table>\n",
              "</div>\n",
              "      <button class=\"colab-df-convert\" onclick=\"convertToInteractive('df-e18c17fc-5d11-4417-ab56-b0f77f819ffe')\"\n",
              "              title=\"Convert this dataframe to an interactive table.\"\n",
              "              style=\"display:none;\">\n",
              "        \n",
              "  <svg xmlns=\"http://www.w3.org/2000/svg\" height=\"24px\"viewBox=\"0 0 24 24\"\n",
              "       width=\"24px\">\n",
              "    <path d=\"M0 0h24v24H0V0z\" fill=\"none\"/>\n",
              "    <path d=\"M18.56 5.44l.94 2.06.94-2.06 2.06-.94-2.06-.94-.94-2.06-.94 2.06-2.06.94zm-11 1L8.5 8.5l.94-2.06 2.06-.94-2.06-.94L8.5 2.5l-.94 2.06-2.06.94zm10 10l.94 2.06.94-2.06 2.06-.94-2.06-.94-.94-2.06-.94 2.06-2.06.94z\"/><path d=\"M17.41 7.96l-1.37-1.37c-.4-.4-.92-.59-1.43-.59-.52 0-1.04.2-1.43.59L10.3 9.45l-7.72 7.72c-.78.78-.78 2.05 0 2.83L4 21.41c.39.39.9.59 1.41.59.51 0 1.02-.2 1.41-.59l7.78-7.78 2.81-2.81c.8-.78.8-2.07 0-2.86zM5.41 20L4 18.59l7.72-7.72 1.47 1.35L5.41 20z\"/>\n",
              "  </svg>\n",
              "      </button>\n",
              "      \n",
              "  <style>\n",
              "    .colab-df-container {\n",
              "      display:flex;\n",
              "      flex-wrap:wrap;\n",
              "      gap: 12px;\n",
              "    }\n",
              "\n",
              "    .colab-df-convert {\n",
              "      background-color: #E8F0FE;\n",
              "      border: none;\n",
              "      border-radius: 50%;\n",
              "      cursor: pointer;\n",
              "      display: none;\n",
              "      fill: #1967D2;\n",
              "      height: 32px;\n",
              "      padding: 0 0 0 0;\n",
              "      width: 32px;\n",
              "    }\n",
              "\n",
              "    .colab-df-convert:hover {\n",
              "      background-color: #E2EBFA;\n",
              "      box-shadow: 0px 1px 2px rgba(60, 64, 67, 0.3), 0px 1px 3px 1px rgba(60, 64, 67, 0.15);\n",
              "      fill: #174EA6;\n",
              "    }\n",
              "\n",
              "    [theme=dark] .colab-df-convert {\n",
              "      background-color: #3B4455;\n",
              "      fill: #D2E3FC;\n",
              "    }\n",
              "\n",
              "    [theme=dark] .colab-df-convert:hover {\n",
              "      background-color: #434B5C;\n",
              "      box-shadow: 0px 1px 3px 1px rgba(0, 0, 0, 0.15);\n",
              "      filter: drop-shadow(0px 1px 2px rgba(0, 0, 0, 0.3));\n",
              "      fill: #FFFFFF;\n",
              "    }\n",
              "  </style>\n",
              "\n",
              "      <script>\n",
              "        const buttonEl =\n",
              "          document.querySelector('#df-e18c17fc-5d11-4417-ab56-b0f77f819ffe button.colab-df-convert');\n",
              "        buttonEl.style.display =\n",
              "          google.colab.kernel.accessAllowed ? 'block' : 'none';\n",
              "\n",
              "        async function convertToInteractive(key) {\n",
              "          const element = document.querySelector('#df-e18c17fc-5d11-4417-ab56-b0f77f819ffe');\n",
              "          const dataTable =\n",
              "            await google.colab.kernel.invokeFunction('convertToInteractive',\n",
              "                                                     [key], {});\n",
              "          if (!dataTable) return;\n",
              "\n",
              "          const docLinkHtml = 'Like what you see? Visit the ' +\n",
              "            '<a target=\"_blank\" href=https://colab.research.google.com/notebooks/data_table.ipynb>data table notebook</a>'\n",
              "            + ' to learn more about interactive tables.';\n",
              "          element.innerHTML = '';\n",
              "          dataTable['output_type'] = 'display_data';\n",
              "          await google.colab.output.renderOutput(dataTable, element);\n",
              "          const docLink = document.createElement('div');\n",
              "          docLink.innerHTML = docLinkHtml;\n",
              "          element.appendChild(docLink);\n",
              "        }\n",
              "      </script>\n",
              "    </div>\n",
              "  </div>\n",
              "  "
            ]
          },
          "metadata": {},
          "execution_count": 7
        }
      ]
    },
    {
      "cell_type": "code",
      "source": [
        "data.isnull().sum()"
      ],
      "metadata": {
        "colab": {
          "base_uri": "https://localhost:8080/"
        },
        "id": "-S3_MwZaPCF3",
        "outputId": "891ee0a7-d1f0-4f3e-8fb5-43beb4201abd"
      },
      "execution_count": 8,
      "outputs": [
        {
          "output_type": "execute_result",
          "data": {
            "text/plain": [
              "User ID            0\n",
              "Gender             0\n",
              "Age                0\n",
              "EstimatedSalary    0\n",
              "Purchased          0\n",
              "dtype: int64"
            ]
          },
          "metadata": {},
          "execution_count": 8
        }
      ]
    },
    {
      "cell_type": "code",
      "source": [
        "data=data.drop_duplicates()"
      ],
      "metadata": {
        "id": "eeIzXL7ePFk0"
      },
      "execution_count": 11,
      "outputs": []
    },
    {
      "cell_type": "code",
      "source": [
        "data.dtypes"
      ],
      "metadata": {
        "colab": {
          "base_uri": "https://localhost:8080/"
        },
        "id": "b64STWP4PFDu",
        "outputId": "2c897a84-c228-4c9d-bd80-ddf2d3d2a870"
      },
      "execution_count": 12,
      "outputs": [
        {
          "output_type": "execute_result",
          "data": {
            "text/plain": [
              "User ID             int64\n",
              "Gender             object\n",
              "Age                 int64\n",
              "EstimatedSalary     int64\n",
              "Purchased           int64\n",
              "dtype: object"
            ]
          },
          "metadata": {},
          "execution_count": 12
        }
      ]
    },
    {
      "cell_type": "code",
      "source": [
        "data.describe()"
      ],
      "metadata": {
        "colab": {
          "base_uri": "https://localhost:8080/",
          "height": 300
        },
        "id": "lom6nrgWPcrP",
        "outputId": "e41c92cd-9fa9-422c-81fe-a78faf96d781"
      },
      "execution_count": 13,
      "outputs": [
        {
          "output_type": "execute_result",
          "data": {
            "text/plain": [
              "            User ID         Age  EstimatedSalary   Purchased\n",
              "count  4.000000e+02  400.000000       400.000000  400.000000\n",
              "mean   1.569154e+07   37.655000     69742.500000    0.357500\n",
              "std    7.165832e+04   10.482877     34096.960282    0.479864\n",
              "min    1.556669e+07   18.000000     15000.000000    0.000000\n",
              "25%    1.562676e+07   29.750000     43000.000000    0.000000\n",
              "50%    1.569434e+07   37.000000     70000.000000    0.000000\n",
              "75%    1.575036e+07   46.000000     88000.000000    1.000000\n",
              "max    1.581524e+07   60.000000    150000.000000    1.000000"
            ],
            "text/html": [
              "\n",
              "  <div id=\"df-4c77e06a-84f8-4dcc-bb32-3be393d53ee1\">\n",
              "    <div class=\"colab-df-container\">\n",
              "      <div>\n",
              "<style scoped>\n",
              "    .dataframe tbody tr th:only-of-type {\n",
              "        vertical-align: middle;\n",
              "    }\n",
              "\n",
              "    .dataframe tbody tr th {\n",
              "        vertical-align: top;\n",
              "    }\n",
              "\n",
              "    .dataframe thead th {\n",
              "        text-align: right;\n",
              "    }\n",
              "</style>\n",
              "<table border=\"1\" class=\"dataframe\">\n",
              "  <thead>\n",
              "    <tr style=\"text-align: right;\">\n",
              "      <th></th>\n",
              "      <th>User ID</th>\n",
              "      <th>Age</th>\n",
              "      <th>EstimatedSalary</th>\n",
              "      <th>Purchased</th>\n",
              "    </tr>\n",
              "  </thead>\n",
              "  <tbody>\n",
              "    <tr>\n",
              "      <th>count</th>\n",
              "      <td>4.000000e+02</td>\n",
              "      <td>400.000000</td>\n",
              "      <td>400.000000</td>\n",
              "      <td>400.000000</td>\n",
              "    </tr>\n",
              "    <tr>\n",
              "      <th>mean</th>\n",
              "      <td>1.569154e+07</td>\n",
              "      <td>37.655000</td>\n",
              "      <td>69742.500000</td>\n",
              "      <td>0.357500</td>\n",
              "    </tr>\n",
              "    <tr>\n",
              "      <th>std</th>\n",
              "      <td>7.165832e+04</td>\n",
              "      <td>10.482877</td>\n",
              "      <td>34096.960282</td>\n",
              "      <td>0.479864</td>\n",
              "    </tr>\n",
              "    <tr>\n",
              "      <th>min</th>\n",
              "      <td>1.556669e+07</td>\n",
              "      <td>18.000000</td>\n",
              "      <td>15000.000000</td>\n",
              "      <td>0.000000</td>\n",
              "    </tr>\n",
              "    <tr>\n",
              "      <th>25%</th>\n",
              "      <td>1.562676e+07</td>\n",
              "      <td>29.750000</td>\n",
              "      <td>43000.000000</td>\n",
              "      <td>0.000000</td>\n",
              "    </tr>\n",
              "    <tr>\n",
              "      <th>50%</th>\n",
              "      <td>1.569434e+07</td>\n",
              "      <td>37.000000</td>\n",
              "      <td>70000.000000</td>\n",
              "      <td>0.000000</td>\n",
              "    </tr>\n",
              "    <tr>\n",
              "      <th>75%</th>\n",
              "      <td>1.575036e+07</td>\n",
              "      <td>46.000000</td>\n",
              "      <td>88000.000000</td>\n",
              "      <td>1.000000</td>\n",
              "    </tr>\n",
              "    <tr>\n",
              "      <th>max</th>\n",
              "      <td>1.581524e+07</td>\n",
              "      <td>60.000000</td>\n",
              "      <td>150000.000000</td>\n",
              "      <td>1.000000</td>\n",
              "    </tr>\n",
              "  </tbody>\n",
              "</table>\n",
              "</div>\n",
              "      <button class=\"colab-df-convert\" onclick=\"convertToInteractive('df-4c77e06a-84f8-4dcc-bb32-3be393d53ee1')\"\n",
              "              title=\"Convert this dataframe to an interactive table.\"\n",
              "              style=\"display:none;\">\n",
              "        \n",
              "  <svg xmlns=\"http://www.w3.org/2000/svg\" height=\"24px\"viewBox=\"0 0 24 24\"\n",
              "       width=\"24px\">\n",
              "    <path d=\"M0 0h24v24H0V0z\" fill=\"none\"/>\n",
              "    <path d=\"M18.56 5.44l.94 2.06.94-2.06 2.06-.94-2.06-.94-.94-2.06-.94 2.06-2.06.94zm-11 1L8.5 8.5l.94-2.06 2.06-.94-2.06-.94L8.5 2.5l-.94 2.06-2.06.94zm10 10l.94 2.06.94-2.06 2.06-.94-2.06-.94-.94-2.06-.94 2.06-2.06.94z\"/><path d=\"M17.41 7.96l-1.37-1.37c-.4-.4-.92-.59-1.43-.59-.52 0-1.04.2-1.43.59L10.3 9.45l-7.72 7.72c-.78.78-.78 2.05 0 2.83L4 21.41c.39.39.9.59 1.41.59.51 0 1.02-.2 1.41-.59l7.78-7.78 2.81-2.81c.8-.78.8-2.07 0-2.86zM5.41 20L4 18.59l7.72-7.72 1.47 1.35L5.41 20z\"/>\n",
              "  </svg>\n",
              "      </button>\n",
              "      \n",
              "  <style>\n",
              "    .colab-df-container {\n",
              "      display:flex;\n",
              "      flex-wrap:wrap;\n",
              "      gap: 12px;\n",
              "    }\n",
              "\n",
              "    .colab-df-convert {\n",
              "      background-color: #E8F0FE;\n",
              "      border: none;\n",
              "      border-radius: 50%;\n",
              "      cursor: pointer;\n",
              "      display: none;\n",
              "      fill: #1967D2;\n",
              "      height: 32px;\n",
              "      padding: 0 0 0 0;\n",
              "      width: 32px;\n",
              "    }\n",
              "\n",
              "    .colab-df-convert:hover {\n",
              "      background-color: #E2EBFA;\n",
              "      box-shadow: 0px 1px 2px rgba(60, 64, 67, 0.3), 0px 1px 3px 1px rgba(60, 64, 67, 0.15);\n",
              "      fill: #174EA6;\n",
              "    }\n",
              "\n",
              "    [theme=dark] .colab-df-convert {\n",
              "      background-color: #3B4455;\n",
              "      fill: #D2E3FC;\n",
              "    }\n",
              "\n",
              "    [theme=dark] .colab-df-convert:hover {\n",
              "      background-color: #434B5C;\n",
              "      box-shadow: 0px 1px 3px 1px rgba(0, 0, 0, 0.15);\n",
              "      filter: drop-shadow(0px 1px 2px rgba(0, 0, 0, 0.3));\n",
              "      fill: #FFFFFF;\n",
              "    }\n",
              "  </style>\n",
              "\n",
              "      <script>\n",
              "        const buttonEl =\n",
              "          document.querySelector('#df-4c77e06a-84f8-4dcc-bb32-3be393d53ee1 button.colab-df-convert');\n",
              "        buttonEl.style.display =\n",
              "          google.colab.kernel.accessAllowed ? 'block' : 'none';\n",
              "\n",
              "        async function convertToInteractive(key) {\n",
              "          const element = document.querySelector('#df-4c77e06a-84f8-4dcc-bb32-3be393d53ee1');\n",
              "          const dataTable =\n",
              "            await google.colab.kernel.invokeFunction('convertToInteractive',\n",
              "                                                     [key], {});\n",
              "          if (!dataTable) return;\n",
              "\n",
              "          const docLinkHtml = 'Like what you see? Visit the ' +\n",
              "            '<a target=\"_blank\" href=https://colab.research.google.com/notebooks/data_table.ipynb>data table notebook</a>'\n",
              "            + ' to learn more about interactive tables.';\n",
              "          element.innerHTML = '';\n",
              "          dataTable['output_type'] = 'display_data';\n",
              "          await google.colab.output.renderOutput(dataTable, element);\n",
              "          const docLink = document.createElement('div');\n",
              "          docLink.innerHTML = docLinkHtml;\n",
              "          element.appendChild(docLink);\n",
              "        }\n",
              "      </script>\n",
              "    </div>\n",
              "  </div>\n",
              "  "
            ]
          },
          "metadata": {},
          "execution_count": 13
        }
      ]
    },
    {
      "cell_type": "code",
      "source": [
        "data.info()"
      ],
      "metadata": {
        "colab": {
          "base_uri": "https://localhost:8080/"
        },
        "id": "vN5Us8LPPhJN",
        "outputId": "9a749693-bab3-41b5-aafb-35b4dc171f21"
      },
      "execution_count": 14,
      "outputs": [
        {
          "output_type": "stream",
          "name": "stdout",
          "text": [
            "<class 'pandas.core.frame.DataFrame'>\n",
            "Int64Index: 400 entries, 0 to 399\n",
            "Data columns (total 5 columns):\n",
            " #   Column           Non-Null Count  Dtype \n",
            "---  ------           --------------  ----- \n",
            " 0   User ID          400 non-null    int64 \n",
            " 1   Gender           400 non-null    object\n",
            " 2   Age              400 non-null    int64 \n",
            " 3   EstimatedSalary  400 non-null    int64 \n",
            " 4   Purchased        400 non-null    int64 \n",
            "dtypes: int64(4), object(1)\n",
            "memory usage: 18.8+ KB\n"
          ]
        }
      ]
    },
    {
      "cell_type": "markdown",
      "source": [
        "to find the outlier in all 3 columns except user id"
      ],
      "metadata": {
        "id": "MaNqUzgFQumh"
      }
    },
    {
      "cell_type": "markdown",
      "source": [
        "AGE"
      ],
      "metadata": {
        "id": "-OPj0w4UQ2i3"
      }
    },
    {
      "cell_type": "code",
      "source": [
        "iqr = data.Age.quantile(0.75) - data.Age.quantile(0.25)\n",
        "upper_threshold = data.Age.quantile(0.75) + (1.5 * iqr) # q3 + 1.5iqr\n",
        "lower_threshold = data.Age.quantile(0.25) - (1.5 * iqr) # q1 - 1.5iqr\n",
        "print(lower_threshold,upper_threshold)\n"
      ],
      "metadata": {
        "colab": {
          "base_uri": "https://localhost:8080/"
        },
        "id": "cPFoCz0pQQQI",
        "outputId": "11eb3d2b-1158-458c-f20d-87c1f65025e0"
      },
      "execution_count": 15,
      "outputs": [
        {
          "output_type": "stream",
          "name": "stdout",
          "text": [
            "5.375 70.375\n"
          ]
        }
      ]
    },
    {
      "cell_type": "markdown",
      "source": [
        "SALARY"
      ],
      "metadata": {
        "id": "kB603RzfQ5c9"
      }
    },
    {
      "cell_type": "code",
      "source": [
        "iqr = data.EstimatedSalary.quantile(0.75) - data.EstimatedSalary.quantile(0.25)\n",
        "upper_threshold = data.EstimatedSalary.quantile(0.75) + (1.5 * iqr) # q3 + 1.5iqr\n",
        "lower_threshold = data.EstimatedSalary.quantile(0.25) - (1.5 * iqr) # q1 - 1.5iqr\n",
        "print(lower_threshold,upper_threshold)"
      ],
      "metadata": {
        "colab": {
          "base_uri": "https://localhost:8080/"
        },
        "id": "MJn7wTZ_Q5Cc",
        "outputId": "096642c3-c8ae-4cba-b61f-535888a92a33"
      },
      "execution_count": 16,
      "outputs": [
        {
          "output_type": "stream",
          "name": "stdout",
          "text": [
            "-24500.0 155500.0\n"
          ]
        }
      ]
    },
    {
      "cell_type": "markdown",
      "source": [
        "Purchased"
      ],
      "metadata": {
        "id": "0YMUg2xpRA57"
      }
    },
    {
      "cell_type": "code",
      "source": [
        "iqr = data.Purchased.quantile(0.75) - data.Purchased.quantile(0.25)\n",
        "upper_threshold = data.Purchased.quantile(0.75) + (1.5 * iqr) # q3 + 1.5iqr\n",
        "lower_threshold = data.Purchased.quantile(0.25) - (1.5 * iqr) # q1 - 1.5iqr\n",
        "print(lower_threshold,upper_threshold)"
      ],
      "metadata": {
        "colab": {
          "base_uri": "https://localhost:8080/"
        },
        "id": "hkzguaLBRD4T",
        "outputId": "4003f724-48e7-478d-a78b-f01c7107c078"
      },
      "execution_count": 17,
      "outputs": [
        {
          "output_type": "stream",
          "name": "stdout",
          "text": [
            "-1.5 2.5\n"
          ]
        }
      ]
    },
    {
      "cell_type": "markdown",
      "source": [
        "there is no outlier in all these column\n",
        "\n",
        "id column will never be useful to predict so we can drop that column"
      ],
      "metadata": {
        "id": "lR_FsO2DRuV5"
      }
    },
    {
      "cell_type": "markdown",
      "metadata": {
        "id": "eHCKYPHylT5K"
      },
      "source": [
        "**Splitting the dataset into the Training set and Test set**"
      ]
    },
    {
      "cell_type": "code",
      "metadata": {
        "id": "o9msgi0sj72h",
        "colab": {
          "base_uri": "https://localhost:8080/"
        },
        "outputId": "e51eab0d-9074-4758-9e05-72035cce93bf"
      },
      "source": [
        "from sklearn.model_selection import train_test_split\n",
        "from sklearn.linear_model import LogisticRegression\n",
        "from sklearn.preprocessing import StandardScaler\n",
        "\n",
        "X=data[['Age','EstimatedSalary']].values\n",
        "y=data['Purchased'].values\n",
        "X_train,X_test,y_train,y_test=train_test_split(X,y,test_size=0.2)\n",
        "print(f'y train is {y_train}',f'x train is {y_test}',sep=\"\\n\\n\")\n"
      ],
      "execution_count": 49,
      "outputs": [
        {
          "output_type": "stream",
          "name": "stdout",
          "text": [
            "y train is [0 0 1 0 0 1 0 0 0 1 0 1 0 1 0 0 1 0 0 0 1 0 0 0 0 0 1 0 0 0 0 0 0 0 0 1 0\n",
            " 1 0 0 0 0 0 1 1 0 0 0 1 1 0 0 1 0 0 1 0 0 1 0 1 0 1 0 1 1 1 0 0 1 0 0 1 1\n",
            " 1 0 1 0 1 1 0 1 0 0 0 0 1 0 1 1 0 0 1 1 0 0 1 0 1 0 1 0 0 0 1 0 0 0 0 0 0\n",
            " 1 0 1 0 0 1 0 0 0 0 0 0 0 0 0 1 0 0 0 1 0 0 0 1 0 1 0 1 0 0 1 1 0 1 1 0 0\n",
            " 1 0 0 0 0 0 1 0 0 0 0 0 1 1 0 1 1 0 0 0 1 0 0 0 1 1 0 0 0 0 0 0 0 1 0 0 0\n",
            " 0 0 0 1 0 0 0 1 0 0 0 1 0 1 0 0 0 0 0 0 0 1 1 0 0 1 0 1 1 1 0 0 1 0 0 0 1\n",
            " 1 0 0 0 1 0 1 0 0 0 1 0 0 0 1 1 0 0 1 0 1 0 0 1 0 0 0 0 0 0 0 1 0 0 0 1 0\n",
            " 1 0 0 0 0 0 1 0 0 0 1 0 1 0 1 1 1 1 1 0 0 1 0 1 0 0 1 0 0 0 0 1 0 0 0 1 0\n",
            " 0 1 0 0 0 0 1 0 0 1 0 1 1 0 1 0 0 0 1 0 1 0 0 0]\n",
            "\n",
            "x train is [0 0 0 1 1 0 1 0 0 0 1 0 0 1 1 0 1 1 0 0 1 0 1 1 1 0 0 1 0 1 0 0 1 0 1 0 1\n",
            " 1 1 1 1 1 0 0 0 1 0 1 1 1 1 0 1 0 0 1 0 1 1 1 0 1 0 0 0 0 0 0 0 0 0 0 1 1\n",
            " 0 0 1 1 0 0]\n"
          ]
        }
      ]
    },
    {
      "cell_type": "code",
      "source": [
        "X_test"
      ],
      "metadata": {
        "colab": {
          "base_uri": "https://localhost:8080/"
        },
        "id": "guzI7rCJf3hT",
        "outputId": "ef8e931a-ff9a-469a-ed2b-daa2a36d0ed5"
      },
      "execution_count": 34,
      "outputs": [
        {
          "output_type": "execute_result",
          "data": {
            "text/plain": [
              "array([[    35,  23000],\n",
              "       [    30,  79000],\n",
              "       [    36,  60000],\n",
              "       [    37,  62000],\n",
              "       [    37,  80000],\n",
              "       [    35,  73000],\n",
              "       [    21,  68000],\n",
              "       [    22,  63000],\n",
              "       [    41,  72000],\n",
              "       [    53,  82000],\n",
              "       [    40,  65000],\n",
              "       [    38, 112000],\n",
              "       [    36,  75000],\n",
              "       [    32, 100000],\n",
              "       [    42,  54000],\n",
              "       [    32,  86000],\n",
              "       [    59,  29000],\n",
              "       [    24,  84000],\n",
              "       [    60,  42000],\n",
              "       [    27,  88000],\n",
              "       [    39, 134000],\n",
              "       [    35,  55000],\n",
              "       [    49,  28000],\n",
              "       [    28,  32000],\n",
              "       [    34, 115000],\n",
              "       [    47, 113000],\n",
              "       [    30, 107000],\n",
              "       [    34,  43000],\n",
              "       [    26,  35000],\n",
              "       [    35,  47000],\n",
              "       [    29,  83000],\n",
              "       [    39,  61000],\n",
              "       [    45,  45000],\n",
              "       [    41,  72000],\n",
              "       [    20,  36000],\n",
              "       [    19,  76000],\n",
              "       [    18,  52000],\n",
              "       [    53,  72000],\n",
              "       [    18,  68000],\n",
              "       [    29,  28000],\n",
              "       [    37,  78000],\n",
              "       [    25,  87000],\n",
              "       [    19,  70000],\n",
              "       [    30,  15000],\n",
              "       [    27, 137000],\n",
              "       [    59,  42000],\n",
              "       [    39,  71000],\n",
              "       [    31,  74000],\n",
              "       [    54,  70000],\n",
              "       [    30,  49000],\n",
              "       [    47,  20000],\n",
              "       [    36, 118000],\n",
              "       [    20,  23000],\n",
              "       [    36, 126000],\n",
              "       [    49,  89000],\n",
              "       [    55,  39000],\n",
              "       [    31,  34000],\n",
              "       [    48, 119000],\n",
              "       [    57,  26000],\n",
              "       [    53, 143000],\n",
              "       [    27,  96000],\n",
              "       [    18,  86000],\n",
              "       [    38,  50000],\n",
              "       [    51, 134000],\n",
              "       [    50,  36000],\n",
              "       [    41,  59000],\n",
              "       [    32, 135000],\n",
              "       [    47,  50000],\n",
              "       [    60,  46000],\n",
              "       [    23,  63000],\n",
              "       [    25,  80000],\n",
              "       [    38,  50000],\n",
              "       [    23,  82000],\n",
              "       [    35,  88000],\n",
              "       [    32, 120000],\n",
              "       [    39, 106000],\n",
              "       [    22,  55000],\n",
              "       [    38,  61000],\n",
              "       [    36,  54000],\n",
              "       [    28,  84000]])"
            ]
          },
          "metadata": {},
          "execution_count": 34
        }
      ]
    },
    {
      "cell_type": "code",
      "source": [
        "X_train"
      ],
      "metadata": {
        "colab": {
          "base_uri": "https://localhost:8080/"
        },
        "id": "BWiBEN-WaFa1",
        "outputId": "1edf9b1f-af99-4fea-e527-ff16ae285dad"
      },
      "execution_count": 35,
      "outputs": [
        {
          "output_type": "execute_result",
          "data": {
            "text/plain": [
              "array([[    24,  19000],\n",
              "       [    57,  60000],\n",
              "       [    22,  18000],\n",
              "       [    58,  38000],\n",
              "       [    47,  30000],\n",
              "       [    51,  23000],\n",
              "       [    58, 101000],\n",
              "       [    34,  25000],\n",
              "       [    27,  54000],\n",
              "       [    36,  52000],\n",
              "       [    35,  58000],\n",
              "       [    41,  30000],\n",
              "       [    22,  81000],\n",
              "       [    35,  61000],\n",
              "       [    56, 133000],\n",
              "       [    41,  80000],\n",
              "       [    21,  16000],\n",
              "       [    20,  86000],\n",
              "       [    57,  74000],\n",
              "       [    35,  27000],\n",
              "       [    37, 146000],\n",
              "       [    27,  90000],\n",
              "       [    37,  79000],\n",
              "       [    47,  49000],\n",
              "       [    42,  53000],\n",
              "       [    27,  31000],\n",
              "       [    35,  97000],\n",
              "       [    36,  33000],\n",
              "       [    41,  52000],\n",
              "       [    40,  61000],\n",
              "       [    57,  33000],\n",
              "       [    26,  72000],\n",
              "       [    38,  71000],\n",
              "       [    33,  69000],\n",
              "       [    26,  80000],\n",
              "       [    35,  57000],\n",
              "       [    52,  38000],\n",
              "       [    31,  18000],\n",
              "       [    59,  83000],\n",
              "       [    27,  20000],\n",
              "       [    34,  72000],\n",
              "       [    23,  20000],\n",
              "       [    45,  79000],\n",
              "       [    52, 150000],\n",
              "       [    54,  26000],\n",
              "       [    33, 113000],\n",
              "       [    48,  35000],\n",
              "       [    37,  80000],\n",
              "       [    42,  80000],\n",
              "       [    20,  82000],\n",
              "       [    31,  66000],\n",
              "       [    39,  79000],\n",
              "       [    19,  21000],\n",
              "       [    35,  59000],\n",
              "       [    33,  51000],\n",
              "       [    28,  87000],\n",
              "       [    34, 112000],\n",
              "       [    26,  52000],\n",
              "       [    47,  43000],\n",
              "       [    32,  18000],\n",
              "       [    49,  86000],\n",
              "       [    41,  71000],\n",
              "       [    49, 141000],\n",
              "       [    41,  72000],\n",
              "       [    37,  52000],\n",
              "       [    52,  21000],\n",
              "       [    37,  74000],\n",
              "       [    37,  57000],\n",
              "       [    40,  57000],\n",
              "       [    50,  88000],\n",
              "       [    38,  65000],\n",
              "       [    20,  82000],\n",
              "       [    35,  79000],\n",
              "       [    48,  29000],\n",
              "       [    38,  71000],\n",
              "       [    40,  60000],\n",
              "       [    48,  33000],\n",
              "       [    48,  33000],\n",
              "       [    26,  32000],\n",
              "       [    41,  51000],\n",
              "       [    26,  15000],\n",
              "       [    19,  26000],\n",
              "       [    29,  83000],\n",
              "       [    19,  19000],\n",
              "       [    21,  72000],\n",
              "       [    23,  28000],\n",
              "       [    26,  16000],\n",
              "       [    35,  25000],\n",
              "       [    26, 118000],\n",
              "       [    38, 113000],\n",
              "       [    40, 142000],\n",
              "       [    47,  47000],\n",
              "       [    40,  72000],\n",
              "       [    39,  96000],\n",
              "       [    53, 104000],\n",
              "       [    35,  53000],\n",
              "       [    48, 131000],\n",
              "       [    36, 144000],\n",
              "       [    44,  39000],\n",
              "       [    36,  99000],\n",
              "       [    38,  55000],\n",
              "       [    30,  87000],\n",
              "       [    49,  28000],\n",
              "       [    29, 148000],\n",
              "       [    48,  30000],\n",
              "       [    28, 123000],\n",
              "       [    24,  55000],\n",
              "       [    51, 146000],\n",
              "       [    49,  36000],\n",
              "       [    30,  80000],\n",
              "       [    47,  23000],\n",
              "       [    24,  32000],\n",
              "       [    48, 141000],\n",
              "       [    47, 107000],\n",
              "       [    46,  88000],\n",
              "       [    30,  62000],\n",
              "       [    42, 149000],\n",
              "       [    38,  61000],\n",
              "       [    42,  79000],\n",
              "       [    37, 144000],\n",
              "       [    28,  59000],\n",
              "       [    38,  59000],\n",
              "       [    45,  22000],\n",
              "       [    35,  44000],\n",
              "       [    37,  93000],\n",
              "       [    37, 137000],\n",
              "       [    46, 117000],\n",
              "       [    27,  17000],\n",
              "       [    41,  63000],\n",
              "       [    54, 108000],\n",
              "       [    40,  71000],\n",
              "       [    46,  22000],\n",
              "       [    35,  77000],\n",
              "       [    49,  39000],\n",
              "       [    58,  95000],\n",
              "       [    27,  89000],\n",
              "       [    36,  63000],\n",
              "       [    57, 122000],\n",
              "       [    28,  37000],\n",
              "       [    22,  27000],\n",
              "       [    23,  48000],\n",
              "       [    33,  31000],\n",
              "       [    40,  47000],\n",
              "       [    18,  82000],\n",
              "       [    20,  49000],\n",
              "       [    52,  90000],\n",
              "       [    24,  58000],\n",
              "       [    26,  17000],\n",
              "       [    38,  80000],\n",
              "       [    31,  15000],\n",
              "       [    21,  88000],\n",
              "       [    29,  47000],\n",
              "       [    30, 135000],\n",
              "       [    33,  28000],\n",
              "       [    58,  23000],\n",
              "       [    29,  61000],\n",
              "       [    31,  58000],\n",
              "       [    40,  59000],\n",
              "       [    26,  81000],\n",
              "       [    42,  90000],\n",
              "       [    46,  59000],\n",
              "       [    42,  64000],\n",
              "       [    40,  57000],\n",
              "       [    35,  22000],\n",
              "       [    35,  65000],\n",
              "       [    39,  42000],\n",
              "       [    35,  20000],\n",
              "       [    34,  43000],\n",
              "       [    27,  58000],\n",
              "       [    25,  90000],\n",
              "       [    28,  59000],\n",
              "       [    36,  50000],\n",
              "       [    60,  34000],\n",
              "       [    46,  82000],\n",
              "       [    35,  75000],\n",
              "       [    24,  89000],\n",
              "       [    49,  65000],\n",
              "       [    37,  77000],\n",
              "       [    46,  79000],\n",
              "       [    28,  89000],\n",
              "       [    41,  79000],\n",
              "       [    43, 112000],\n",
              "       [    40, 107000],\n",
              "       [    29,  75000],\n",
              "       [    46,  23000],\n",
              "       [    38,  51000],\n",
              "       [    35,  60000],\n",
              "       [    39,  42000],\n",
              "       [    37,  75000],\n",
              "       [    35,  72000],\n",
              "       [    46,  32000],\n",
              "       [    58, 144000],\n",
              "       [    39,  59000],\n",
              "       [    32, 150000],\n",
              "       [    35, 147000],\n",
              "       [    46,  74000],\n",
              "       [    29,  43000],\n",
              "       [    42,  65000],\n",
              "       [    35,  38000],\n",
              "       [    26,  84000],\n",
              "       [    52, 114000],\n",
              "       [    39,  75000],\n",
              "       [    36, 125000],\n",
              "       [    50,  20000],\n",
              "       [    33, 149000],\n",
              "       [    42,  73000],\n",
              "       [    35,  50000],\n",
              "       [    35,  39000],\n",
              "       [    47,  34000],\n",
              "       [    52, 138000],\n",
              "       [    30,  17000],\n",
              "       [    37,  72000],\n",
              "       [    45,  32000],\n",
              "       [    43, 133000],\n",
              "       [    35,  71000],\n",
              "       [    48,  41000],\n",
              "       [    47, 144000],\n",
              "       [    49,  88000],\n",
              "       [    43, 129000],\n",
              "       [    32,  18000],\n",
              "       [    54, 104000],\n",
              "       [    35,  75000],\n",
              "       [    44, 139000],\n",
              "       [    18,  44000],\n",
              "       [    41,  52000],\n",
              "       [    59,  76000],\n",
              "       [    31,  89000],\n",
              "       [    32, 117000],\n",
              "       [    37,  71000],\n",
              "       [    37,  53000],\n",
              "       [    42, 108000],\n",
              "       [    49,  74000],\n",
              "       [    45,  22000],\n",
              "       [    48,  90000],\n",
              "       [    55, 125000],\n",
              "       [    35,  91000],\n",
              "       [    60, 102000],\n",
              "       [    19,  25000],\n",
              "       [    35, 108000],\n",
              "       [    32, 117000],\n",
              "       [    24,  27000],\n",
              "       [    37,  33000],\n",
              "       [    40,  57000],\n",
              "       [    53,  34000],\n",
              "       [    37,  70000],\n",
              "       [    48,  96000],\n",
              "       [    30, 116000],\n",
              "       [    25,  33000],\n",
              "       [    41,  87000],\n",
              "       [    59, 130000],\n",
              "       [    37,  55000],\n",
              "       [    46,  28000],\n",
              "       [    35,  50000],\n",
              "       [    48,  74000],\n",
              "       [    46,  96000],\n",
              "       [    31,  76000],\n",
              "       [    40,  75000],\n",
              "       [    59, 143000],\n",
              "       [    28,  85000],\n",
              "       [    41,  45000],\n",
              "       [    45,  26000],\n",
              "       [    60,  42000],\n",
              "       [    39, 134000],\n",
              "       [    25,  22000],\n",
              "       [    27,  57000],\n",
              "       [    40,  75000],\n",
              "       [    24,  55000],\n",
              "       [    27,  58000],\n",
              "       [    60, 108000],\n",
              "       [    50,  44000],\n",
              "       [    48, 134000],\n",
              "       [    24,  23000],\n",
              "       [    29,  43000],\n",
              "       [    42,  70000],\n",
              "       [    31,  71000],\n",
              "       [    58,  47000],\n",
              "       [    42,  80000],\n",
              "       [    26,  86000],\n",
              "       [    28,  44000],\n",
              "       [    56, 104000],\n",
              "       [    30,  89000],\n",
              "       [    39,  73000],\n",
              "       [    26,  15000],\n",
              "       [    23,  66000],\n",
              "       [    59,  88000],\n",
              "       [    60,  83000],\n",
              "       [    42,  75000],\n",
              "       [    26,  30000],\n",
              "       [    19,  85000],\n",
              "       [    29,  80000],\n",
              "       [    40,  78000],\n",
              "       [    39,  77000],\n",
              "       [    55, 130000],\n",
              "       [    41,  60000],\n",
              "       [    27,  84000],\n",
              "       [    46,  41000],\n",
              "       [    47, 105000],\n",
              "       [    56,  60000],\n",
              "       [    28,  79000],\n",
              "       [    47,  51000],\n",
              "       [    48, 138000],\n",
              "       [    26,  80000],\n",
              "       [    39,  71000],\n",
              "       [    42,  65000],\n",
              "       [    26,  43000],\n",
              "       [    25,  79000],\n",
              "       [    41,  72000],\n",
              "       [    47,  25000],\n",
              "       [    33,  60000],\n",
              "       [    31, 118000],\n",
              "       [    33,  43000],\n",
              "       [    35,  72000],\n",
              "       [    42, 104000],\n",
              "       [    42,  54000],\n",
              "       [    20,  74000],\n",
              "       [    33,  41000],\n",
              "       [    28,  55000],\n",
              "       [    39, 122000],\n",
              "       [    45, 131000],\n",
              "       [    31,  68000]])"
            ]
          },
          "metadata": {},
          "execution_count": 35
        }
      ]
    },
    {
      "cell_type": "code",
      "source": [
        "X_train.shape"
      ],
      "metadata": {
        "colab": {
          "base_uri": "https://localhost:8080/"
        },
        "id": "uQDGzD89aJvE",
        "outputId": "5b23b005-5af6-4554-fb77-8ed64f9c0239"
      },
      "execution_count": 36,
      "outputs": [
        {
          "output_type": "execute_result",
          "data": {
            "text/plain": [
              "(320, 2)"
            ]
          },
          "metadata": {},
          "execution_count": 36
        }
      ]
    },
    {
      "cell_type": "code",
      "source": [
        "y_train.shape"
      ],
      "metadata": {
        "colab": {
          "base_uri": "https://localhost:8080/"
        },
        "id": "s9HtztSBaS6b",
        "outputId": "4fe39a56-9548-48e2-ba78-56e36b79fe29"
      },
      "execution_count": 37,
      "outputs": [
        {
          "output_type": "execute_result",
          "data": {
            "text/plain": [
              "(320,)"
            ]
          },
          "metadata": {},
          "execution_count": 37
        }
      ]
    },
    {
      "cell_type": "markdown",
      "metadata": {
        "id": "AsfmGeH6lZ0O"
      },
      "source": [
        "**Feature Scaling**"
      ]
    },
    {
      "cell_type": "code",
      "metadata": {
        "id": "Xfifr6tlj77A"
      },
      "source": [
        "from sklearn.preprocessing import StandardScaler # importing the required function\n",
        "scaler = StandardScaler() #initialis\n",
        "scaler.fit(X_train) # find the values of mu and sigma\n",
        "X_train = scaler.transform(X_train)\n",
        "X_test = scaler.transform(X_test)"
      ],
      "execution_count": 38,
      "outputs": []
    },
    {
      "cell_type": "markdown",
      "metadata": {
        "id": "UkiSpylklf7z"
      },
      "source": [
        "**Step 2 | Logistic Regression Model**"
      ]
    },
    {
      "cell_type": "markdown",
      "metadata": {
        "id": "rhZgd1t_mfYg"
      },
      "source": [
        "The library for this job which is going to be the linear model library and it is called linear because the logistic regression is a linear classifier which means that here since we're in two dimensions, our two categories of users are going to be separated by a straight line. Then import the logistic regression class. Next we will create a new object from this class which is going to be our classifier that we are going to fit on our training set."
      ]
    },
    {
      "cell_type": "markdown",
      "metadata": {
        "id": "oCUEcLBflmPn"
      },
      "source": [
        "**Fitting Logistic Regression to the Training set**"
      ]
    },
    {
      "cell_type": "code",
      "metadata": {
        "id": "l8YSpSphj8FN",
        "colab": {
          "base_uri": "https://localhost:8080/"
        },
        "outputId": "49dce49e-b6c7-4f78-a2fa-4db892a0067b"
      },
      "source": [
        "from sklearn.linear_model import LogisticRegression #main code that build the LR model \n",
        "logistic_regression= LogisticRegression() \n",
        "logistic_regression.fit(X_train,y_train) \n"
      ],
      "execution_count": 40,
      "outputs": [
        {
          "output_type": "execute_result",
          "data": {
            "text/plain": [
              "LogisticRegression()"
            ]
          },
          "metadata": {},
          "execution_count": 40
        }
      ]
    },
    {
      "cell_type": "markdown",
      "metadata": {
        "id": "0DpkLwdRlvXX"
      },
      "source": [
        "**Step 3 | Predection**"
      ]
    },
    {
      "cell_type": "code",
      "metadata": {
        "id": "5X1PxviQlp0C",
        "colab": {
          "base_uri": "https://localhost:8080/"
        },
        "outputId": "cd517ebc-88db-44a5-ae04-fea95f1c1fd9"
      },
      "source": [
        "y_pred=logistic_regression.predict(X_test)\n",
        "\n",
        "\n",
        "y_pred"
      ],
      "execution_count": 53,
      "outputs": [
        {
          "output_type": "execute_result",
          "data": {
            "text/plain": [
              "array([1, 1, 1, 1, 1, 1, 1, 1, 1, 1, 1, 1, 1, 1, 1, 1, 1, 1, 1, 1, 1, 1,\n",
              "       1, 1, 1, 1, 1, 1, 1, 1, 1, 1, 1, 1, 1, 1, 1, 1, 1, 1, 1, 1, 1, 1,\n",
              "       1, 1, 1, 1, 1, 1, 1, 1, 1, 1, 1, 1, 1, 1, 1, 1, 1, 1, 1, 1, 1, 1,\n",
              "       1, 1, 1, 1, 1, 1, 1, 1, 1, 1, 1, 1, 1, 1])"
            ]
          },
          "metadata": {},
          "execution_count": 53
        }
      ]
    },
    {
      "cell_type": "code",
      "source": [
        "from sklearn.metrics import roc_auc_score\n",
        "roc_auc_score(y_test,y_pred)"
      ],
      "metadata": {
        "colab": {
          "base_uri": "https://localhost:8080/"
        },
        "id": "3TzUlg_P7whX",
        "outputId": "4ccd16a1-97b5-4aca-aaa2-f79589d51a5f"
      },
      "execution_count": 57,
      "outputs": [
        {
          "output_type": "execute_result",
          "data": {
            "text/plain": [
              "0.5"
            ]
          },
          "metadata": {},
          "execution_count": 57
        }
      ]
    },
    {
      "cell_type": "markdown",
      "source": [
        "this is because of imbalance data so we need to balance it."
      ],
      "metadata": {
        "id": "ogMHx8ABoP9l"
      }
    },
    {
      "cell_type": "code",
      "source": [
        "from imblearn.combine import SMOTEENN"
      ],
      "metadata": {
        "id": "eJq6AjUM7KjG"
      },
      "execution_count": 54,
      "outputs": []
    },
    {
      "cell_type": "code",
      "source": [
        "smt = SMOTEENN(sampling_strategy='all')\n",
        "X_smt, y_smt = smt.fit_resample(X_train, y_train)\n",
        "\n"
      ],
      "metadata": {
        "id": "YqOTO7IYoPNH"
      },
      "execution_count": 61,
      "outputs": []
    },
    {
      "cell_type": "code",
      "source": [
        "from sklearn.linear_model import LogisticRegression\n",
        "from sklearn.metrics import roc_auc_score\n",
        "\n",
        "lr = LogisticRegression()\n",
        "lr.fit(X_smt,y_smt)\n",
        "lr.score(X,y)\n",
        "\n",
        "\n",
        "print( \"AUROC on the sampled dataset : \",roc_auc_score(y, lr.predict_proba(X)[:, 1]))"
      ],
      "metadata": {
        "colab": {
          "base_uri": "https://localhost:8080/"
        },
        "id": "FSwYhGKq7oop",
        "outputId": "6c9c1bab-f88b-462a-8c85-f1952dc8e1a0"
      },
      "execution_count": 62,
      "outputs": [
        {
          "output_type": "stream",
          "name": "stdout",
          "text": [
            "AUROC on the sampled dataset :  0.6821855187613942\n"
          ]
        }
      ]
    },
    {
      "cell_type": "markdown",
      "metadata": {
        "id": "vdX1IU-Fl7Ak"
      },
      "source": [
        "**Step 4 | Evaluating The Predection**"
      ]
    },
    {
      "cell_type": "markdown",
      "metadata": {
        "id": "zPdZLTTQmqa9"
      },
      "source": [
        "We predicted the test results and now we will evaluate if our logistic regression model learned and understood correctly. So this confusion matrix is going to contain the correct predictions that our model made on the set as well as the incorrect predictions."
      ]
    },
    {
      "cell_type": "markdown",
      "metadata": {
        "id": "bxjKgSYvmBDn"
      },
      "source": [
        "**Making the Confusion Matrix**"
      ]
    },
    {
      "cell_type": "code",
      "source": [
        "from sklearn.metrics import confusion_matrix\n",
        "confusion_matrix(y_test, y_pred)"
      ],
      "metadata": {
        "colab": {
          "base_uri": "https://localhost:8080/"
        },
        "id": "sdXToZNBAz5D",
        "outputId": "c3dfd4ae-450d-47a0-dee9-8920308d5dc1"
      },
      "execution_count": 64,
      "outputs": [
        {
          "output_type": "execute_result",
          "data": {
            "text/plain": [
              "array([[ 0, 43],\n",
              "       [ 0, 37]])"
            ]
          },
          "metadata": {},
          "execution_count": 64
        }
      ]
    },
    {
      "cell_type": "markdown",
      "metadata": {
        "id": "DARs2T8GmG3v"
      },
      "source": [
        "**Visualization**"
      ]
    },
    {
      "cell_type": "code",
      "metadata": {
        "id": "v_qMnhVilqBW"
      },
      "source": [
        "def plot_2d_space(X, y, label='Classes'):   \n",
        "    colors = ['#1F77B4', '#FF7F0E']\n",
        "    markers = ['o', 's']\n",
        "    for l, c, m in zip(np.unique(y), colors, markers):\n",
        "        plt.scatter(\n",
        "            X[y==l, 0],\n",
        "            X[y==l, 1],\n",
        "            c=c, label=l, marker=m\n",
        "        )\n",
        "    plt.title(label)\n",
        "    plt.legend(loc='upper right')\n",
        "    plt.show()"
      ],
      "execution_count": 59,
      "outputs": []
    },
    {
      "cell_type": "code",
      "metadata": {
        "id": "QBiu7oxRlqGj",
        "colab": {
          "base_uri": "https://localhost:8080/",
          "height": 545
        },
        "outputId": "96579b7c-316c-4c57-c5a7-0c31c7e5bde0"
      },
      "source": [
        "plot_2d_space(X, y, 'Original Data')\n",
        "\n",
        "smt = SMOTEENN(sampling_strategy='all')\n",
        "X_smt, y_smt = smt.fit_resample(X, y)\n",
        "\n",
        "plot_2d_space(X_smt, y_smt, 'SMOTE + ENN links')"
      ],
      "execution_count": 60,
      "outputs": [
        {
          "output_type": "display_data",
          "data": {
            "text/plain": [
              "<Figure size 432x288 with 1 Axes>"
            ],
            "image/png": "[encoded data removed]"
          },
          "metadata": {
            "needs_background": "light"
          }
        },
        {
          "output_type": "display_data",
          "data": {
            "text/plain": [
              "<Figure size 432x288 with 1 Axes>"
            ],
            "image/png": "[encoded data removed]"
          },
          "metadata": {
            "needs_background": "light"
          }
        }
      ]
    },
    {
      "cell_type": "code",
      "metadata": {
        "id": "qLGVB79kj8KK"
      },
      "source": [],
      "execution_count": null,
      "outputs": []
    }
  ]
}